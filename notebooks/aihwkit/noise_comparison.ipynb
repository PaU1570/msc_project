{
 "cells": [
  {
   "cell_type": "code",
   "execution_count": 15,
   "metadata": {},
   "outputs": [],
   "source": [
    "import sys\n",
    "sys.path.append('/scratch/msc24h18/msc_project/scripts/aihwkit')"
   ]
  },
  {
   "cell_type": "code",
   "execution_count": 16,
   "metadata": {},
   "outputs": [],
   "source": [
    "from aihwkit.simulator.configs.configs import DigitalRankUpdateRPUConfig\n",
    "import os\n",
    "import matplotlib.pyplot as plt\n",
    "import pandas as pd\n",
    "import numpy as np\n",
    "from fit_piecewise import get_fit\n",
    "\n",
    "import torch\n",
    "from torch import nn\n",
    "\n",
    "plt.style.use('ggplot')\n",
    "\n",
    "SEED = 2024\n",
    "SIZE = 2\n",
    "N_REPS = 10000"
   ]
  },
  {
   "cell_type": "code",
   "execution_count": 17,
   "metadata": {},
   "outputs": [],
   "source": [
    "working_dir = '/scratch/msc24h18/msc_project'\n",
    "rel_path = 'data/LBE247_analyzed/LBE247_ID301XR1000Oct/pulsedAmplitudeSweep_DCIV_20240919143913/pulsedAmplitudeSweep_DCIV[LBE247_ID301XR1000Oct(1)]20240919144143/pulsedAmplitudeSweep_DCIV[LBE247_ID301XR1000Oct(1)]20240919144143_Summary.dat'\n",
    "filename = os.path.join(working_dir, rel_path)\n",
    "\n",
    "result, device_config, model_response = get_fit(filename)"
   ]
  },
  {
   "cell_type": "code",
   "execution_count": 18,
   "metadata": {},
   "outputs": [],
   "source": [
    "from aihwkit.simulator.configs import IOParameters, UpdateParameters, PulseType, MixedPrecisionCompound\n",
    "from aihwkit.nn import AnalogLinear\n",
    "\n",
    "forward_params = IOParameters(\n",
    "    is_perfect=False,\n",
    "    inp_noise=0.0,  # Standard deviation of Gaussian (additive) input noise (after applying the DAC quantization)\n",
    "    inp_res=126,  # Resolution (or quantization steps) for the full input (signed) range of the DAC\n",
    "    inp_bound=1,\n",
    "    out_noise=0.06,  # Standard deviation of Gaussian output noise\n",
    "    out_res=126,  # Resolution (or quantization steps) for the full output (signed) range of the ADC\n",
    "    out_bound=12,\n",
    "    ir_drop=0,\n",
    "    w_noise=0,  # Scale of output referred MVM-to-MVM weight read noise\n",
    ")\n",
    "\n",
    "backward_params = forward_params\n",
    "\n",
    "up_params = UpdateParameters()\n",
    "\n",
    "device_config.dw_min_dtod = 0.0\n",
    "device_config.dw_min_std = 0.0\n",
    "device_config.up_down_dtod = 0.0\n",
    "device_config.w_max_dtod = 0.0\n",
    "device_config.w_min_dtod = 0.0\n",
    "device_config.write_noise_std = 0.0\n",
    "\n",
    "rpu_config = DigitalRankUpdateRPUConfig(\n",
    "    device=MixedPrecisionCompound(device=device_config),\n",
    "    forward=forward_params,\n",
    "    backward=backward_params,\n",
    "    update=up_params\n",
    ")\n",
    "\n",
    "model = AnalogLinear(SIZE, SIZE, rpu_config=rpu_config)"
   ]
  },
  {
   "cell_type": "code",
   "execution_count": 19,
   "metadata": {},
   "outputs": [
    {
     "data": {
      "image/png": "[encoded data removed]",
      "text/plain": [
       "<Figure size 1000x600 with 1 Axes>"
      ]
     },
     "metadata": {},
     "output_type": "display_data"
    }
   ],
   "source": [
    "np.random.seed(SEED)\n",
    "\n",
    "errors = np.zeros(N_REPS)\n",
    "\n",
    "for i in range(N_REPS):\n",
    "    u = np.random.uniform(-1, 1, SIZE)\n",
    "    M = np.random.uniform(-1, 1, (SIZE, SIZE))\n",
    "    b = np.random.uniform(-1, 1, SIZE)\n",
    "\n",
    "    # ideal output\n",
    "    v = M @ u + b\n",
    "\n",
    "    # model output\n",
    "    model.set_weights(M, b)\n",
    "    y = model(torch.Tensor(u)).detach().numpy()\n",
    "\n",
    "    # compute error\n",
    "    errors[i] = np.linalg.norm(v - y)\n",
    "\n",
    "fig, ax = plt.subplots(figsize=(10, 6))\n",
    "ax.hist(errors, bins=50, density=True)\n",
    "ax.set(xlabel=r'$\\| y_{ideal}-y_{model}\\|$', ylabel='Density', title='Error distribution')\n",
    "plt.show()"
   ]
  }
 ],
 "metadata": {
  "kernelspec": {
   "display_name": "aihwkit_env",
   "language": "python",
   "name": "python3"
  },
  "language_info": {
   "codemirror_mode": {
    "name": "ipython",
    "version": 3
   },
   "file_extension": ".py",
   "mimetype": "text/x-python",
   "name": "python",
   "nbconvert_exporter": "python",
   "pygments_lexer": "ipython3",
   "version": "3.11.10"
  }
 },
 "nbformat": 4,
 "nbformat_minor": 2
}
