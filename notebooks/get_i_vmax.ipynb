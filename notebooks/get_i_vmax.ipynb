{
 "cells": [
  {
   "cell_type": "code",
   "execution_count": 21,
   "metadata": {},
   "outputs": [],
   "source": [
    "import pandas as pd\n",
    "import msc_project.utils.data_utils as du"
   ]
  },
  {
   "cell_type": "code",
   "execution_count": 22,
   "metadata": {},
   "outputs": [],
   "source": [
    "DATA_PATH = '/scratch/msc24h18/msc_project/data/LBE247_analyzed_2nd_run_only'\n",
    "summary_files = du.get_summary_files(DATA_PATH)\n",
    "summaries = [du.read_summary_file(f) for f in summary_files]"
   ]
  },
  {
   "cell_type": "code",
   "execution_count": 23,
   "metadata": {},
   "outputs": [
    {
     "data": {
      "text/plain": [
       "81967213114.754"
      ]
     },
     "execution_count": 23,
     "metadata": {},
     "output_type": "execute_result"
    }
   ],
   "source": [
    "summaries[0][1][summaries[0][1]['Pulse Amplitude (V)'] == 2.4][\"R_low (ohm)\"].values[0]"
   ]
  },
  {
   "cell_type": "code",
   "execution_count": 24,
   "metadata": {},
   "outputs": [],
   "source": [
    "data = {\"device_name\": [],\n",
    "        \"device_id\": [],\n",
    "        \"test_time\": [],\n",
    "        \"Vread\": [],\n",
    "        \"Vmin\": [],\n",
    "        \"I_vmin\": [],\n",
    "        \"R_low_vmin\": [],\n",
    "        \"R_high_vmin\": [],\n",
    "        \"Vmax\": [],\n",
    "        \"I_vmax\": [],\n",
    "        \"R_low_vmax\": [],\n",
    "        \"R_high_vmax\": []\n",
    "        }\n",
    "\n",
    "V_READ = 0.1\n",
    "for summary in summaries:\n",
    "    data[\"device_name\"].append(\"LBE247\")\n",
    "    data[\"device_id\"].append(summary[0][\"device_id\"])\n",
    "    data[\"test_time\"].append(summary[0][\"test_time\"])\n",
    "    data[\"Vread\"].append(V_READ)\n",
    "    vmin = float(summary[1][\"Pulse Amplitude (V)\"].min())\n",
    "    vmax = float(summary[1][\"Pulse Amplitude (V)\"].max())\n",
    "    r_low_vmin = summary[1][summary[1][\"Pulse Amplitude (V)\"] == vmin][\"R_low (ohm)\"].values[0]\n",
    "    r_low_vmax = summary[1][summary[1][\"Pulse Amplitude (V)\"] == vmax][\"R_low (ohm)\"].values[0]\n",
    "    r_high_vmin = summary[1][summary[1][\"Pulse Amplitude (V)\"] == vmin][\"R_high (ohm)\"].values[0]\n",
    "    r_high_vmax = summary[1][summary[1][\"Pulse Amplitude (V)\"] == vmax][\"R_high (ohm)\"].values[0]\n",
    "    i_vmin = V_READ / ((r_low_vmin + r_high_vmin) / 2)\n",
    "    i_vmax = V_READ / ((r_low_vmax + r_high_vmax) / 2)\n",
    "    data[\"Vmin\"].append(vmin)\n",
    "    data[\"I_vmin\"].append(i_vmin)\n",
    "    data[\"R_low_vmin\"].append(r_low_vmin)\n",
    "    data[\"R_high_vmin\"].append(r_high_vmin)\n",
    "    data[\"Vmax\"].append(vmax)\n",
    "    data[\"I_vmax\"].append(i_vmax)\n",
    "    data[\"R_low_vmax\"].append(r_low_vmax)\n",
    "    data[\"R_high_vmax\"].append(r_high_vmax)\n",
    "\n",
    "df = pd.DataFrame(data)\n"
   ]
  },
  {
   "cell_type": "code",
   "execution_count": 27,
   "metadata": {},
   "outputs": [],
   "source": [
    "df.to_csv(\"/scratch/msc24h18/msc_project/data/max_currents.csv\", index=False)"
   ]
  },
  {
   "cell_type": "code",
   "execution_count": null,
   "metadata": {},
   "outputs": [],
   "source": []
  }
 ],
 "metadata": {
  "kernelspec": {
   "display_name": "aihwkit_dev",
   "language": "python",
   "name": "python3"
  },
  "language_info": {
   "codemirror_mode": {
    "name": "ipython",
    "version": 3
   },
   "file_extension": ".py",
   "mimetype": "text/x-python",
   "name": "python",
   "nbconvert_exporter": "python",
   "pygments_lexer": "ipython3",
   "version": "3.11.10"
  }
 },
 "nbformat": 4,
 "nbformat_minor": 2
}
