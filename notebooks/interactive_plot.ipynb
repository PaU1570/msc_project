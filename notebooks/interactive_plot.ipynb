{
 "cells": [
  {
   "cell_type": "code",
   "execution_count": 1,
   "metadata": {},
   "outputs": [],
   "source": [
    "import plot_utils as pu\n",
    "import ipywidgets as widgets\n",
    "from IPython.display import display\n",
    "import pandas as pd\n",
    "import numpy as np\n",
    "import matplotlib.pyplot as plt\n",
    "plt.style.use('ggplot')"
   ]
  },
  {
   "cell_type": "code",
   "execution_count": 2,
   "metadata": {},
   "outputs": [],
   "source": [
    "class Args():\n",
    "    def __init__(self, **kwargs):\n",
    "        for key, value in kwargs.items():\n",
    "            setattr(self, key, value)\n",
    "\n",
    "def _interactive_summary_plot(input, x_col, y_col, hue, huescale, scale, aspect, xlim, ylim, filter_col, filter_val, title):\n",
    "    args = Args(input=input, \n",
    "                x=x_col,\n",
    "                y=y_col, \n",
    "                hue=hue,\n",
    "                huescale=huescale,\n",
    "                scale=scale, \n",
    "                aspect=aspect, \n",
    "                ylim=ylim,\n",
    "                xlim=xlim, \n",
    "                filter=(filter_col, filter_val) if filter_col else None, \n",
    "                title=title, \n",
    "                savefig=None,\n",
    "                all=False)\n",
    "    pu.plot_summary(args)\n",
    "\n",
    "def _interactive_epochs_plot(input, y_col, hue, huescale, scale, aspect, xlim, ylim, filter_col, filter_val, title):\n",
    "    args = Args(input=input, \n",
    "                y=y_col,\n",
    "                hue=hue,\n",
    "                huescale=huescale,\n",
    "                scale=scale, \n",
    "                aspect=aspect, \n",
    "                ylim=ylim,\n",
    "                xlim=xlim, \n",
    "                filter=(filter_col, filter_val) if filter_col else None, \n",
    "                title=title, \n",
    "                savefig=None,\n",
    "                all=False)\n",
    "    pu.plot_epochs(args)\n",
    "\n",
    "df = pd.read_csv(\"/scratch/msc24h18/msc_project/results/test7/test7.csv\")\n",
    "\n",
    "input = widgets.Text(description=\"Input file\", value=\"/scratch/msc24h18/msc_project/results/test7/test7.csv\")\n",
    "input_dir = widgets.Text(description=\"Input directory\", value=\"/scratch/msc24h18/msc_project/results/test7/neurosim\")\n",
    "x_col = widgets.Dropdown(description=\"X column\", options=df.columns, value=\"onOffRatio\")\n",
    "y_col = widgets.Dropdown(description=\"Y column\", options=df.columns, value=\"accuracy\")\n",
    "hue = widgets.Dropdown(description=\"Hue column\", options=df.columns, value=\"device_id\")\n",
    "huescale = widgets.Dropdown(description=\"Hue scale\", options=['linear', 'log'], value='linear')\n",
    "scale = widgets.Dropdown(description=\"Scale\", options=['linear', 'log-log', 'log-lin', 'lin-log'], value='linear')\n",
    "aspect = widgets.Text(description=\"Aspect ratio\", value='auto')\n",
    "filter_col = widgets.Dropdown(description=\"Filter column\", options=df.columns, value=None)\n",
    "filter_val = widgets.Text(description=\"Filter value\", value=None)\n",
    "clear_filter = widgets.Button(description=\"Clear filter\")\n",
    "title = widgets.Text(description=\"Title\", value=None)\n",
    "\n",
    "def load_data(change):\n",
    "    global df\n",
    "    df = pd.read_csv(change.new)\n",
    "    update_xy_options()\n",
    "    print(\"Loaded data\")\n",
    "\n",
    "def update_xy_options():\n",
    "    x_col.options = df.columns\n",
    "    y_col.options = df.columns\n",
    "\n",
    "def clear_filter_clicked(b):\n",
    "    filter_col.value = None\n",
    "    filter_val.value = ''\n",
    "\n",
    "clear_filter.on_click(clear_filter_clicked)\n",
    "\n",
    "def interactive_summary_plot():\n",
    "    input.observe(load_data, names='value')\n",
    "    ui = widgets.VBox([input, x_col, y_col, hue, huescale, scale, aspect, filter_col, filter_val, clear_filter, title])\n",
    "    out = widgets.interactive_output(_interactive_summary_plot, {\n",
    "        'input': input,\n",
    "        'x_col': x_col,\n",
    "        'y_col': y_col,\n",
    "        'hue': hue,\n",
    "        'huescale': huescale,\n",
    "        'scale': scale,\n",
    "        'aspect': aspect,\n",
    "        'xlim': widgets.fixed(None),\n",
    "        'ylim': widgets.fixed(None),\n",
    "        'filter_col': filter_col,\n",
    "        'filter_val': filter_val,\n",
    "        'title': title,\n",
    "    })\n",
    "    display(ui, out)\n",
    "\n",
    "def interactive_epochs_plot():\n",
    "    input.observe(load_data, names='value')\n",
    "    ui = widgets.VBox([input_dir, y_col, hue, huescale, scale, aspect, filter_col, filter_val, clear_filter, title])\n",
    "    out = widgets.interactive_output(_interactive_epochs_plot, {\n",
    "        'input': input_dir,\n",
    "        'y_col': y_col,\n",
    "        'hue': hue,\n",
    "        'huescale': huescale,\n",
    "        'scale': scale,\n",
    "        'aspect': aspect,\n",
    "        'xlim': widgets.fixed(None),\n",
    "        'ylim': widgets.fixed(None),\n",
    "        'filter_col': filter_col,\n",
    "        'filter_val': filter_val,\n",
    "        'title': title,\n",
    "    })\n",
    "    display(ui, out)"
   ]
  },
  {
   "cell_type": "code",
   "execution_count": 3,
   "metadata": {},
   "outputs": [
    {
     "data": {
      "application/vnd.jupyter.widget-view+json": {
       "model_id": "dfa5fc313ed544898faffda71e5908b4",
       "version_major": 2,
       "version_minor": 0
      },
      "text/plain": [
       "VBox(children=(Text(value='/scratch/msc24h18/msc_project/results/test7/test7.csv', description='Input file'), …"
      ]
     },
     "metadata": {},
     "output_type": "display_data"
    },
    {
     "data": {
      "application/vnd.jupyter.widget-view+json": {
       "model_id": "bde5f5324df84c9c80d33c6bc0c5f776",
       "version_major": 2,
       "version_minor": 0
      },
      "text/plain": [
       "Output()"
      ]
     },
     "metadata": {},
     "output_type": "display_data"
    }
   ],
   "source": [
    "interactive_summary_plot()"
   ]
  },
  {
   "cell_type": "code",
   "execution_count": 4,
   "metadata": {},
   "outputs": [
    {
     "data": {
      "application/vnd.jupyter.widget-view+json": {
       "model_id": "27f673083138414bb66df4a97b89fdb3",
       "version_major": 2,
       "version_minor": 0
      },
      "text/plain": [
       "VBox(children=(Text(value='/scratch/msc24h18/msc_project/results/test7/neurosim', description='Input directory…"
      ]
     },
     "metadata": {},
     "output_type": "display_data"
    },
    {
     "data": {
      "application/vnd.jupyter.widget-view+json": {
       "model_id": "683575d67b284e44acf5632d53bb1071",
       "version_major": 2,
       "version_minor": 0
      },
      "text/plain": [
       "Output()"
      ]
     },
     "metadata": {},
     "output_type": "display_data"
    }
   ],
   "source": [
    "interactive_epochs_plot()"
   ]
  },
  {
   "cell_type": "code",
   "execution_count": null,
   "metadata": {},
   "outputs": [],
   "source": []
  }
 ],
 "metadata": {
  "kernelspec": {
   "display_name": ".venv",
   "language": "python",
   "name": "python3"
  },
  "language_info": {
   "codemirror_mode": {
    "name": "ipython",
    "version": 3
   },
   "file_extension": ".py",
   "mimetype": "text/x-python",
   "name": "python",
   "nbconvert_exporter": "python",
   "pygments_lexer": "ipython3",
   "version": "3.11.5"
  }
 },
 "nbformat": 4,
 "nbformat_minor": 2
}
