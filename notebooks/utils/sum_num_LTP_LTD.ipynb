{
 "cells": [
  {
   "cell_type": "code",
   "execution_count": 2,
   "metadata": {},
   "outputs": [],
   "source": [
    "import pandas as pd"
   ]
  },
  {
   "cell_type": "code",
   "execution_count": null,
   "metadata": {},
   "outputs": [],
   "source": [
    "DATA_PATH = '/scratch/msc24h18/msc_project/results/test33/run_1.csv'\n",
    "\n",
    "\n",
    "def add_columns(df, col1, col2, new_col, abssum=False):\n",
    "    if abssum:\n",
    "        df[new_col] = abs(df[col1]) + abs(df[col2])\n",
    "    else:\n",
    "        df[new_col] = df[col1] + df[col2]\n",
    "    cols = df.columns.tolist()\n",
    "    new_col_index = cols.index(col2) + 1\n",
    "    cols.insert(new_col_index, new_col)\n",
    "    cols = cols[:-1]\n",
    "    df = df[cols]\n",
    "    return df\n",
    "\n",
    "\n",
    "def subtract_columns(df, col1, col2, new_col):\n",
    "    df[new_col] = df[col1] - df[col2]\n",
    "    cols = df.columns.tolist()\n",
    "    new_col_index = cols.index(col2) + 1\n",
    "    cols.insert(new_col_index, new_col)\n",
    "    cols = cols[:-1]\n",
    "    df = df[cols]\n",
    "    return df\n",
    "\n",
    "\n",
    "def get_min(df, col1, col2, new_col):\n",
    "    df[new_col] = df[[col1, col2]].min(axis=1)\n",
    "    cols = df.columns.tolist()\n",
    "    new_col_index = cols.index(col2) + 1\n",
    "    cols.insert(new_col_index, new_col)\n",
    "    cols = cols[:-1]\n",
    "    df = df[cols]\n",
    "    return df\n",
    "\n",
    "\n",
    "def get_max(df, col1, col2, new_col, useabs=True):\n",
    "    df[new_col] = df[[col1, col2]].abs().max(axis=1)\n",
    "    cols = df.columns.tolist()\n",
    "    new_col_index = cols.index(col2) + 1\n",
    "    cols.insert(new_col_index, new_col)\n",
    "    cols = cols[:-1]\n",
    "    df = df[cols]\n",
    "    return df"
   ]
  },
  {
   "cell_type": "code",
   "execution_count": 4,
   "metadata": {},
   "outputs": [],
   "source": [
    "df = pd.read_csv(DATA_PATH)\n",
    "# df = add_columns(df, \"NL_LTP\", \"NL_LTD\", \"NL_tot\", abssum=True)\n",
    "# df[\"NL_tot\"] = df[\"NL_tot\"]/2\n",
    "df = get_max(df, \"NL_LTP\", \"NL_LTD\", \"NL_max\")"
   ]
  },
  {
   "cell_type": "code",
   "execution_count": 7,
   "metadata": {},
   "outputs": [
    {
     "data": {
      "text/html": [
       "<div>\n",
       "<style scoped>\n",
       "    .dataframe tbody tr th:only-of-type {\n",
       "        vertical-align: middle;\n",
       "    }\n",
       "\n",
       "    .dataframe tbody tr th {\n",
       "        vertical-align: top;\n",
       "    }\n",
       "\n",
       "    .dataframe thead th {\n",
       "        text-align: right;\n",
       "    }\n",
       "</style>\n",
       "<table border=\"1\" class=\"dataframe\">\n",
       "  <thead>\n",
       "    <tr style=\"text-align: right;\">\n",
       "      <th></th>\n",
       "      <th>NL_LTP</th>\n",
       "      <th>NL_LTD</th>\n",
       "      <th>NL_max</th>\n",
       "      <th>NL_tot</th>\n",
       "    </tr>\n",
       "  </thead>\n",
       "  <tbody>\n",
       "    <tr>\n",
       "      <th>0</th>\n",
       "      <td>1.98</td>\n",
       "      <td>-3.03</td>\n",
       "      <td>3.03</td>\n",
       "      <td>2.505</td>\n",
       "    </tr>\n",
       "    <tr>\n",
       "      <th>1</th>\n",
       "      <td>1.26</td>\n",
       "      <td>-1.71</td>\n",
       "      <td>1.71</td>\n",
       "      <td>1.485</td>\n",
       "    </tr>\n",
       "    <tr>\n",
       "      <th>2</th>\n",
       "      <td>1.47</td>\n",
       "      <td>-1.55</td>\n",
       "      <td>1.55</td>\n",
       "      <td>1.510</td>\n",
       "    </tr>\n",
       "    <tr>\n",
       "      <th>3</th>\n",
       "      <td>2.02</td>\n",
       "      <td>-1.25</td>\n",
       "      <td>2.02</td>\n",
       "      <td>1.635</td>\n",
       "    </tr>\n",
       "    <tr>\n",
       "      <th>4</th>\n",
       "      <td>2.12</td>\n",
       "      <td>-1.37</td>\n",
       "      <td>2.12</td>\n",
       "      <td>1.745</td>\n",
       "    </tr>\n",
       "  </tbody>\n",
       "</table>\n",
       "</div>"
      ],
      "text/plain": [
       "   NL_LTP  NL_LTD  NL_max  NL_tot\n",
       "0    1.98   -3.03    3.03   2.505\n",
       "1    1.26   -1.71    1.71   1.485\n",
       "2    1.47   -1.55    1.55   1.510\n",
       "3    2.02   -1.25    2.02   1.635\n",
       "4    2.12   -1.37    2.12   1.745"
      ]
     },
     "execution_count": 7,
     "metadata": {},
     "output_type": "execute_result"
    }
   ],
   "source": [
    "df[[\"NL_LTP\", \"NL_LTD\", \"NL_max\", \"NL_tot\"]].head()"
   ]
  },
  {
   "cell_type": "code",
   "execution_count": 8,
   "metadata": {},
   "outputs": [],
   "source": [
    "df.to_csv(DATA_PATH, index=False)"
   ]
  },
  {
   "cell_type": "code",
   "execution_count": null,
   "metadata": {},
   "outputs": [],
   "source": []
  }
 ],
 "metadata": {
  "kernelspec": {
   "display_name": "aihwkit_dev",
   "language": "python",
   "name": "python3"
  },
  "language_info": {
   "codemirror_mode": {
    "name": "ipython",
    "version": 3
   },
   "file_extension": ".py",
   "mimetype": "text/x-python",
   "name": "python",
   "nbconvert_exporter": "python",
   "pygments_lexer": "ipython3",
   "version": "3.11.10"
  }
 },
 "nbformat": 4,
 "nbformat_minor": 2
}
