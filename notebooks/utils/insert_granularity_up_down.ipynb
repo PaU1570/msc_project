{
 "cells": [
  {
   "cell_type": "code",
   "execution_count": 8,
   "metadata": {},
   "outputs": [],
   "source": [
    "import pandas as pd"
   ]
  },
  {
   "cell_type": "code",
   "execution_count": 9,
   "metadata": {},
   "outputs": [],
   "source": [
    "REFERENCE_PATH = '/scratch/msc24h18/msc_project/results/test46/symmetric.csv'\n",
    "DATA_PATH = '/scratch/msc24h18/msc_project/results/test56/test56.csv'"
   ]
  },
  {
   "cell_type": "code",
   "execution_count": 10,
   "metadata": {},
   "outputs": [],
   "source": [
    "df_ref = pd.read_csv(REFERENCE_PATH).sort_values(by=['device_id', 'test_time'])\n",
    "df = pd.read_csv(DATA_PATH).sort_values(by=['device_id', 'test_time'])"
   ]
  },
  {
   "cell_type": "code",
   "execution_count": 11,
   "metadata": {},
   "outputs": [],
   "source": [
    "df['device_name'] = 'LBE247'\n",
    "add_columns = ['granularity', 'granularity_up', 'granularity_down']\n",
    "for col in add_columns:\n",
    "    df[col] = df_ref[col]\n",
    "\n",
    "df['granularity_diff'] = df['granularity_up'] - df['granularity_down']"
   ]
  },
  {
   "cell_type": "code",
   "execution_count": 12,
   "metadata": {},
   "outputs": [],
   "source": [
    "df.to_csv(DATA_PATH, index=False)"
   ]
  },
  {
   "cell_type": "code",
   "execution_count": null,
   "metadata": {},
   "outputs": [],
   "source": []
  }
 ],
 "metadata": {
  "kernelspec": {
   "display_name": "msc_project",
   "language": "python",
   "name": "python3"
  },
  "language_info": {
   "codemirror_mode": {
    "name": "ipython",
    "version": 3
   },
   "file_extension": ".py",
   "mimetype": "text/x-python",
   "name": "python",
   "nbconvert_exporter": "python",
   "pygments_lexer": "ipython3",
   "version": "3.11.10"
  }
 },
 "nbformat": 4,
 "nbformat_minor": 2
}
